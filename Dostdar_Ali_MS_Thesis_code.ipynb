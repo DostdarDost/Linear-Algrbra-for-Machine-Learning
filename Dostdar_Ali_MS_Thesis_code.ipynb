{
  "cells": [
    {
      "cell_type": "markdown",
      "metadata": {
        "id": "view-in-github",
        "colab_type": "text"
      },
      "source": [
        "<a href=\"https://colab.research.google.com/github/DostdarDost/Linear-Algrbra-for-Machine-Learning/blob/main/Dostdar_Ali_MS_Thesis_code.ipynb\" target=\"_parent\"><img src=\"https://colab.research.google.com/assets/colab-badge.svg\" alt=\"Open In Colab\"/></a>"
      ]
    },
    {
      "cell_type": "markdown",
      "metadata": {
        "id": "8KS0apnCMUo1"
      },
      "source": [
        "**Six Machine learning Algorithm**"
      ]
    },
    {
      "cell_type": "code",
      "execution_count": null,
      "metadata": {
        "id": "Cb6cJVjEwBGR"
      },
      "outputs": [],
      "source": [
        "#libraries load\n",
        "import pandas as pd\n",
        "import numpy as np\n",
        "import matplotlib.pyplot as plt\n",
        "import seaborn as sns\n",
        "import warnings\n",
        "warnings.filterwarnings(\"ignore\")"
      ]
    },
    {
      "cell_type": "code",
      "execution_count": null,
      "metadata": {
        "colab": {
          "base_uri": "https://localhost:8080/"
        },
        "id": "136qjdyswO_F",
        "outputId": "867b056b-8913-4a86-d93a-e6484ffd4c46"
      },
      "outputs": [
        {
          "output_type": "stream",
          "name": "stdout",
          "text": [
            "the data set has303 rows 14columus\n"
          ]
        }
      ],
      "source": [
        "# step#2 data reading or load\n",
        "df = pd.read_csv(\"/content/heart.csv\", header = 0,index_col=0)\n",
        "print(\"the data set has{} rows {}columus\".format(df.shape[0],df.shape[1]))"
      ]
    },
    {
      "cell_type": "code",
      "source": [
        "df.head()"
      ],
      "metadata": {
        "colab": {
          "base_uri": "https://localhost:8080/",
          "height": 206
        },
        "id": "c6eMqI708VYN",
        "outputId": "9c17e7c6-3d4b-41c5-cb70-6fde127ce5f0"
      },
      "execution_count": null,
      "outputs": [
        {
          "output_type": "execute_result",
          "data": {
            "text/html": [
              "\n",
              "  <div id=\"df-8046b2e7-5713-4b11-8800-e5d8c55091cc\">\n",
              "    <div class=\"colab-df-container\">\n",
              "      <div>\n",
              "<style scoped>\n",
              "    .dataframe tbody tr th:only-of-type {\n",
              "        vertical-align: middle;\n",
              "    }\n",
              "\n",
              "    .dataframe tbody tr th {\n",
              "        vertical-align: top;\n",
              "    }\n",
              "\n",
              "    .dataframe thead th {\n",
              "        text-align: right;\n",
              "    }\n",
              "</style>\n",
              "<table border=\"1\" class=\"dataframe\">\n",
              "  <thead>\n",
              "    <tr style=\"text-align: right;\">\n",
              "      <th></th>\n",
              "      <th>age</th>\n",
              "      <th>sex</th>\n",
              "      <th>cp</th>\n",
              "      <th>trestbps</th>\n",
              "      <th>chol</th>\n",
              "      <th>fbs</th>\n",
              "      <th>restecg</th>\n",
              "      <th>thalach</th>\n",
              "      <th>exang</th>\n",
              "      <th>oldpeak</th>\n",
              "      <th>slope</th>\n",
              "      <th>ca</th>\n",
              "      <th>thal</th>\n",
              "      <th>target</th>\n",
              "    </tr>\n",
              "  </thead>\n",
              "  <tbody>\n",
              "    <tr>\n",
              "      <th>0</th>\n",
              "      <td>63</td>\n",
              "      <td>1</td>\n",
              "      <td>3</td>\n",
              "      <td>145</td>\n",
              "      <td>233</td>\n",
              "      <td>1</td>\n",
              "      <td>0</td>\n",
              "      <td>150</td>\n",
              "      <td>0</td>\n",
              "      <td>2.3</td>\n",
              "      <td>0</td>\n",
              "      <td>0</td>\n",
              "      <td>1</td>\n",
              "      <td>1</td>\n",
              "    </tr>\n",
              "    <tr>\n",
              "      <th>1</th>\n",
              "      <td>37</td>\n",
              "      <td>1</td>\n",
              "      <td>2</td>\n",
              "      <td>130</td>\n",
              "      <td>250</td>\n",
              "      <td>0</td>\n",
              "      <td>1</td>\n",
              "      <td>187</td>\n",
              "      <td>0</td>\n",
              "      <td>3.5</td>\n",
              "      <td>0</td>\n",
              "      <td>0</td>\n",
              "      <td>2</td>\n",
              "      <td>1</td>\n",
              "    </tr>\n",
              "    <tr>\n",
              "      <th>2</th>\n",
              "      <td>41</td>\n",
              "      <td>0</td>\n",
              "      <td>1</td>\n",
              "      <td>130</td>\n",
              "      <td>204</td>\n",
              "      <td>0</td>\n",
              "      <td>0</td>\n",
              "      <td>172</td>\n",
              "      <td>0</td>\n",
              "      <td>1.4</td>\n",
              "      <td>2</td>\n",
              "      <td>0</td>\n",
              "      <td>2</td>\n",
              "      <td>1</td>\n",
              "    </tr>\n",
              "    <tr>\n",
              "      <th>3</th>\n",
              "      <td>56</td>\n",
              "      <td>1</td>\n",
              "      <td>1</td>\n",
              "      <td>120</td>\n",
              "      <td>236</td>\n",
              "      <td>0</td>\n",
              "      <td>1</td>\n",
              "      <td>178</td>\n",
              "      <td>0</td>\n",
              "      <td>0.8</td>\n",
              "      <td>2</td>\n",
              "      <td>0</td>\n",
              "      <td>2</td>\n",
              "      <td>1</td>\n",
              "    </tr>\n",
              "    <tr>\n",
              "      <th>4</th>\n",
              "      <td>57</td>\n",
              "      <td>0</td>\n",
              "      <td>0</td>\n",
              "      <td>120</td>\n",
              "      <td>354</td>\n",
              "      <td>0</td>\n",
              "      <td>1</td>\n",
              "      <td>163</td>\n",
              "      <td>1</td>\n",
              "      <td>0.6</td>\n",
              "      <td>2</td>\n",
              "      <td>0</td>\n",
              "      <td>2</td>\n",
              "      <td>1</td>\n",
              "    </tr>\n",
              "  </tbody>\n",
              "</table>\n",
              "</div>\n",
              "      <button class=\"colab-df-convert\" onclick=\"convertToInteractive('df-8046b2e7-5713-4b11-8800-e5d8c55091cc')\"\n",
              "              title=\"Convert this dataframe to an interactive table.\"\n",
              "              style=\"display:none;\">\n",
              "        \n",
              "  <svg xmlns=\"http://www.w3.org/2000/svg\" height=\"24px\"viewBox=\"0 0 24 24\"\n",
              "       width=\"24px\">\n",
              "    <path d=\"M0 0h24v24H0V0z\" fill=\"none\"/>\n",
              "    <path d=\"M18.56 5.44l.94 2.06.94-2.06 2.06-.94-2.06-.94-.94-2.06-.94 2.06-2.06.94zm-11 1L8.5 8.5l.94-2.06 2.06-.94-2.06-.94L8.5 2.5l-.94 2.06-2.06.94zm10 10l.94 2.06.94-2.06 2.06-.94-2.06-.94-.94-2.06-.94 2.06-2.06.94z\"/><path d=\"M17.41 7.96l-1.37-1.37c-.4-.4-.92-.59-1.43-.59-.52 0-1.04.2-1.43.59L10.3 9.45l-7.72 7.72c-.78.78-.78 2.05 0 2.83L4 21.41c.39.39.9.59 1.41.59.51 0 1.02-.2 1.41-.59l7.78-7.78 2.81-2.81c.8-.78.8-2.07 0-2.86zM5.41 20L4 18.59l7.72-7.72 1.47 1.35L5.41 20z\"/>\n",
              "  </svg>\n",
              "      </button>\n",
              "      \n",
              "  <style>\n",
              "    .colab-df-container {\n",
              "      display:flex;\n",
              "      flex-wrap:wrap;\n",
              "      gap: 12px;\n",
              "    }\n",
              "\n",
              "    .colab-df-convert {\n",
              "      background-color: #E8F0FE;\n",
              "      border: none;\n",
              "      border-radius: 50%;\n",
              "      cursor: pointer;\n",
              "      display: none;\n",
              "      fill: #1967D2;\n",
              "      height: 32px;\n",
              "      padding: 0 0 0 0;\n",
              "      width: 32px;\n",
              "    }\n",
              "\n",
              "    .colab-df-convert:hover {\n",
              "      background-color: #E2EBFA;\n",
              "      box-shadow: 0px 1px 2px rgba(60, 64, 67, 0.3), 0px 1px 3px 1px rgba(60, 64, 67, 0.15);\n",
              "      fill: #174EA6;\n",
              "    }\n",
              "\n",
              "    [theme=dark] .colab-df-convert {\n",
              "      background-color: #3B4455;\n",
              "      fill: #D2E3FC;\n",
              "    }\n",
              "\n",
              "    [theme=dark] .colab-df-convert:hover {\n",
              "      background-color: #434B5C;\n",
              "      box-shadow: 0px 1px 3px 1px rgba(0, 0, 0, 0.15);\n",
              "      filter: drop-shadow(0px 1px 2px rgba(0, 0, 0, 0.3));\n",
              "      fill: #FFFFFF;\n",
              "    }\n",
              "  </style>\n",
              "\n",
              "      <script>\n",
              "        const buttonEl =\n",
              "          document.querySelector('#df-8046b2e7-5713-4b11-8800-e5d8c55091cc button.colab-df-convert');\n",
              "        buttonEl.style.display =\n",
              "          google.colab.kernel.accessAllowed ? 'block' : 'none';\n",
              "\n",
              "        async function convertToInteractive(key) {\n",
              "          const element = document.querySelector('#df-8046b2e7-5713-4b11-8800-e5d8c55091cc');\n",
              "          const dataTable =\n",
              "            await google.colab.kernel.invokeFunction('convertToInteractive',\n",
              "                                                     [key], {});\n",
              "          if (!dataTable) return;\n",
              "\n",
              "          const docLinkHtml = 'Like what you see? Visit the ' +\n",
              "            '<a target=\"_blank\" href=https://colab.research.google.com/notebooks/data_table.ipynb>data table notebook</a>'\n",
              "            + ' to learn more about interactive tables.';\n",
              "          element.innerHTML = '';\n",
              "          dataTable['output_type'] = 'display_data';\n",
              "          await google.colab.output.renderOutput(dataTable, element);\n",
              "          const docLink = document.createElement('div');\n",
              "          docLink.innerHTML = docLinkHtml;\n",
              "          element.appendChild(docLink);\n",
              "        }\n",
              "      </script>\n",
              "    </div>\n",
              "  </div>\n",
              "  "
            ],
            "text/plain": [
              "   age  sex  cp  trestbps  chol  fbs  ...  exang  oldpeak  slope  ca  thal  target\n",
              "0   63    1   3       145   233    1  ...      0      2.3      0   0     1       1\n",
              "1   37    1   2       130   250    0  ...      0      3.5      0   0     2       1\n",
              "2   41    0   1       130   204    0  ...      0      1.4      2   0     2       1\n",
              "3   56    1   1       120   236    0  ...      0      0.8      2   0     2       1\n",
              "4   57    0   0       120   354    0  ...      1      0.6      2   0     2       1\n",
              "\n",
              "[5 rows x 14 columns]"
            ]
          },
          "metadata": {},
          "execution_count": 3
        }
      ]
    },
    {
      "cell_type": "code",
      "execution_count": null,
      "metadata": {
        "colab": {
          "base_uri": "https://localhost:8080/"
        },
        "id": "x3ubOMVUwwFt",
        "outputId": "573c58c5-35e3-4ef8-ce1e-86575eac6c27"
      },
      "outputs": [
        {
          "output_type": "stream",
          "name": "stdout",
          "text": [
            "Packages imported...\n"
          ]
        }
      ],
      "source": [
        "from sklearn.preprocessing import RobustScaler\n",
        "\n",
        "# Train Test Split\n",
        "from sklearn.model_selection import train_test_split\n",
        "\n",
        "# Models\n",
        "import torch\n",
        "import torch.nn as nn\n",
        "from sklearn.svm import SVC\n",
        "from sklearn.linear_model import LogisticRegression\n",
        "from sklearn.ensemble import RandomForestClassifier\n",
        "from sklearn.tree import DecisionTreeClassifier\n",
        "from sklearn.neighbors import KNeighborsClassifier\n",
        "from sklearn.preprocessing import LabelEncoder\n",
        "from sklearn.inspection import permutation_importance\n",
        "from sklearn.model_selection import RandomizedSearchCV, GridSearchCV\n",
        "from sklearn import tree\n",
        "from sklearn.metrics import accuracy_score,confusion_matrix\n",
        "from sklearn.metrics import ConfusionMatrixDisplay\n",
        "\n",
        "# Metrics\n",
        "from sklearn.metrics import accuracy_score, classification_report, roc_curve\n",
        "\n",
        "# Cross Validation\n",
        "from sklearn.model_selection import cross_val_score\n",
        "from sklearn.model_selection import GridSearchCV\n",
        "print('Packages imported...')"
      ]
    },
    {
      "cell_type": "code",
      "execution_count": null,
      "metadata": {
        "id": "V-h61TxVxWXk"
      },
      "outputs": [],
      "source": [
        "# creating a copy of df\n",
        "df1 = df\n",
        "# define the columns to be encoded and scaled\n",
        "cat_cols = ['sex','exang','ca','cp','fbs','restecg','slope','thal']\n",
        "con_cols = [\"age\",\"trestbps\",\"chol\",\"thalach\",\"oldpeak\"]\n",
        "# encoding the categorical columns\n",
        "df1 = pd.get_dummies(df1, columns = cat_cols, drop_first = True)\n",
        "final_columns = df1.columns;\n",
        "# defining the features and target\n",
        "X = df1.drop(['target'],axis=1)\n",
        "y = df1[['target']]\n",
        "# instantiating the scaler\n",
        "scaler = RobustScaler()\n",
        "# scaling the continuous featuree\n",
        "X[con_cols] = scaler.fit_transform(X[con_cols])\n"
      ]
    },
    {
      "cell_type": "code",
      "execution_count": null,
      "metadata": {
        "id": "nTy8sAm4xff9"
      },
      "outputs": [],
      "source": [
        "# spliting method\n",
        "X_train, X_test, y_train, y_test = train_test_split(X,y, test_size = 0.2, random_state = 42)"
      ]
    },
    {
      "cell_type": "markdown",
      "metadata": {
        "id": "CvfsuySV-Sru"
      },
      "source": [
        "1 **Support vector machine**"
      ]
    },
    {
      "cell_type": "code",
      "execution_count": null,
      "metadata": {
        "colab": {
          "base_uri": "https://localhost:8080/",
          "height": 766
        },
        "id": "IGmCR7DHyFC6",
        "outputId": "837f9266-5ac8-4d0b-80b4-63e59fe76133"
      },
      "outputs": [
        {
          "output_type": "stream",
          "name": "stdout",
          "text": [
            "\n",
            "\n",
            "Accuracy of Support Vector Machine Classifier: 90.164 %\n",
            "\n",
            "              precision    recall  f1-score   support\n",
            "\n",
            "           0       0.90      0.90      0.90        29\n",
            "           1       0.91      0.91      0.91        32\n",
            "\n",
            "    accuracy                           0.90        61\n",
            "   macro avg       0.90      0.90      0.90        61\n",
            "weighted avg       0.90      0.90      0.90        61\n",
            "\n"
          ]
        },
        {
          "output_type": "display_data",
          "data": {
            "image/png": "[encoded data removed]",
            "text/plain": [
              "<Figure size 432x288 with 1 Axes>"
            ]
          },
          "metadata": {
            "needs_background": "light"
          }
        },
        {
          "output_type": "display_data",
          "data": {
            "image/png": "[encoded data removed]",
            "text/plain": [
              "<Figure size 432x288 with 2 Axes>"
            ]
          },
          "metadata": {
            "needs_background": "light"
          }
        }
      ],
      "source": [
        "# instantiating the object\n",
        "svm = SVC()\n",
        "# setting a grid - not so extensive\n",
        "parameters = {\"C\":np.arange(1,10,1),'gamma':[0.00001,0.00005, 0.0001,0.0005,0.001,0.005,0.01,0.05,0.1,0.5,1,5]}\n",
        "# instantiating the GridSearchCV object\n",
        "searcher = GridSearchCV(svm, parameters)\n",
        "# fitting the object\n",
        "searcher.fit(X_train, y_train)\n",
        "# feature importance\n",
        "perm_importance = permutation_importance(searcher, X_test, y_test)\n",
        "feature_names = ['age', 'trestbps', 'chol', 'thalach', 'oldpeak', 'target', 'sex_1',\n",
        "       'exang_1', 'ca_1', 'ca_2', 'ca_3', 'ca_4', 'cp_1', 'cp_2', 'cp_3',\n",
        "       'fbs_1', 'restecg_1', 'restecg_2', 'slope_1', 'slope_2', 'thal_1',\n",
        "       'thal_2', 'thal_3']\n",
        "features = np.array(feature_names)\n",
        "sorted_idx = perm_importance.importances_mean.argsort()\n",
        "plt.barh(features[sorted_idx], perm_importance.importances_mean[sorted_idx])\n",
        "plt.xlabel(\"Permutation Importance\")\n",
        "# predicting the values\n",
        "y_pred = searcher.predict(X_test)\n",
        "# confusion matrix and accuracy scores for y_test\n",
        "acc_score = accuracy_score(y_test, y_pred)\n",
        "print(\"\\n\")\n",
        "print(\"Accuracy of Support Vector Machine Classifier: {:.3f}\".format(acc_score*100),'%\\n')\n",
        "\n",
        "#Peport\n",
        "print(classification_report(y_test, y_pred))\n",
        "\n",
        "# display confussion matrix\n",
        "cm = confusion_matrix(y_test,y_pred,labels=searcher.classes_)\n",
        "disp = ConfusionMatrixDisplay(confusion_matrix=cm, display_labels=searcher.classes_)\n",
        "disp.plot()\n",
        "plt.show()\n",
        "\n"
      ]
    },
    {
      "cell_type": "code",
      "execution_count": null,
      "metadata": {
        "colab": {
          "base_uri": "https://localhost:8080/",
          "height": 312
        },
        "id": "0vs5FTeR1So_",
        "outputId": "9849efb2-ba53-4660-cf0c-da203b88efe7"
      },
      "outputs": [
        {
          "output_type": "display_data",
          "data": {
            "image/png": "[encoded data removed]",
            "text/plain": [
              "<Figure size 432x288 with 1 Axes>"
            ]
          },
          "metadata": {
            "needs_background": "light"
          }
        },
        {
          "output_type": "stream",
          "name": "stdout",
          "text": [
            "The test accuracy score of SVM after hyper-parameter tuning is  0.9016393442622951\n"
          ]
        }
      ],
      "source": [
        "\n",
        "\n",
        "# instantiating the roc_cruve for y_test\n",
        "fpr,tpr,threshols=roc_curve(y_test,y_pred)\n",
        "\n",
        "# plotting the curve\n",
        "plt.plot([0,1],[0,1],\"k--\",'r+')\n",
        "plt.plot(fpr,tpr,label='Support Vector Machine')\n",
        "plt.xlabel(\"False Positive Rate\")\n",
        "plt.ylabel(\"True Positive Rate\")\n",
        "plt.title(\"Support Vector Machine ROC Curve\")\n",
        "plt.show()\n",
        "\n",
        "# printing the test accuracy\n",
        "print(\"The test accuracy score of SVM after hyper-parameter tuning is \", accuracy_score(y_test, y_pred))"
      ]
    },
    {
      "cell_type": "markdown",
      "metadata": {
        "id": "qdf0ucFF-AEo"
      },
      "source": [
        "2 **Logistic** **Regression**"
      ]
    },
    {
      "cell_type": "code",
      "execution_count": null,
      "metadata": {
        "colab": {
          "base_uri": "https://localhost:8080/",
          "height": 784
        },
        "id": "2pBfZttNzhyN",
        "outputId": "2ef0a3a9-2a4d-475c-cb59-d993b33e6e28"
      },
      "outputs": [
        {
          "output_type": "stream",
          "name": "stdout",
          "text": [
            "\n",
            "\n",
            "Accuracy of Logistic Regression Classifier: 90.164 %\n",
            "\n",
            "              precision    recall  f1-score   support\n",
            "\n",
            "           0       0.87      0.93      0.90        29\n",
            "           1       0.93      0.88      0.90        32\n",
            "\n",
            "    accuracy                           0.90        61\n",
            "   macro avg       0.90      0.90      0.90        61\n",
            "weighted avg       0.90      0.90      0.90        61\n",
            "\n"
          ]
        },
        {
          "output_type": "execute_result",
          "data": {
            "text/plain": [
              "<function matplotlib.pyplot.show>"
            ]
          },
          "metadata": {},
          "execution_count": 9
        },
        {
          "output_type": "display_data",
          "data": {
            "image/png": "[encoded data removed]",
            "text/plain": [
              "<Figure size 432x288 with 1 Axes>"
            ]
          },
          "metadata": {
            "needs_background": "light"
          }
        },
        {
          "output_type": "display_data",
          "data": {
            "image/png": "[encoded data removed]",
            "text/plain": [
              "<Figure size 432x288 with 2 Axes>"
            ]
          },
          "metadata": {
            "needs_background": "light"
          }
        }
      ],
      "source": [
        "# instantiating the object\n",
        "logreg = LogisticRegression()\n",
        "\n",
        "# fitting the object\n",
        "logreg.fit(X_train, y_train)\n",
        "\n",
        "# feature importance\n",
        "perm_importance = permutation_importance(logreg, X_test, y_test)\n",
        "feature_names = ['age', 'trestbps', 'chol', 'thalach', 'oldpeak', 'target', 'sex_1',\n",
        "       'exang_1', 'ca_1', 'ca_2', 'ca_3', 'ca_4', 'cp_1', 'cp_2', 'cp_3',\n",
        "       'fbs_1', 'restecg_1', 'restecg_2', 'slope_1', 'slope_2', 'thal_1',\n",
        "       'thal_2', 'thal_3']\n",
        "features = np.array(feature_names)\n",
        "sorted_idx = perm_importance.importances_mean.argsort()\n",
        "plt.barh(features[sorted_idx], perm_importance.importances_mean[sorted_idx])\n",
        "plt.xlabel(\"Permutation Importance\")\n",
        "\n",
        "# calculating the probabilities\n",
        "y_pred_proba = logreg.predict_proba(X_test)\n",
        "\n",
        "# finding the predicted valued\n",
        "y_pred = np.argmax(y_pred_proba,axis=1)\n",
        "# confusion matrix and accuracy scores for y_test\n",
        "acc=accuracy_score(y_test,y_pred)\n",
        "print(\"\\n\")\n",
        "print(\"Accuracy of Logistic Regression Classifier: {:.3f}\".format(acc*100),'%\\n')\n",
        "\n",
        "#Peport\n",
        "print(classification_report(y_test, y_pred))\n",
        "# disply confusion matrix\n",
        "cm = confusion_matrix(y_test,y_pred,labels=logreg.classes_)\n",
        "disp = ConfusionMatrixDisplay(confusion_matrix=cm, display_labels=logreg.classes_)\n",
        "disp.plot()\n",
        "plt.show\n",
        "\n",
        "\n",
        "\n",
        "\n"
      ]
    },
    {
      "cell_type": "code",
      "execution_count": null,
      "metadata": {
        "colab": {
          "base_uri": "https://localhost:8080/",
          "height": 312
        },
        "id": "HwbcCFbF069B",
        "outputId": "a1a9bdaf-a3cb-49bc-ca40-282bd3c4b43f"
      },
      "outputs": [
        {
          "output_type": "stream",
          "name": "stdout",
          "text": [
            "The test accuracy score of Logistric Regression is  0.9016393442622951\n"
          ]
        },
        {
          "output_type": "display_data",
          "data": {
            "image/png": "[encoded data removed]",
            "text/plain": [
              "<Figure size 432x288 with 1 Axes>"
            ]
          },
          "metadata": {
            "needs_background": "light"
          }
        }
      ],
      "source": [
        "# printing the test accuracy\n",
        "print(\"The test accuracy score of Logistric Regression is \", accuracy_score(y_test, y_pred))\n",
        "# calculating the probabilities\n",
        "y_pred_prob = logreg.predict_proba(X_test)[:,1]\n",
        "# instantiating the roc_cruve for y_test\n",
        "fpr,tpr,threshols=roc_curve(y_test,y_pred_prob)\n",
        "# plotting the curve\n",
        "plt.plot([0,1],[0,1],\"k--\",'r+')\n",
        "plt.plot(fpr,tpr,label='Logistic Regression')\n",
        "plt.xlabel(\"False Positive Rate\")\n",
        "plt.ylabel(\"True Positive Rate\")\n",
        "plt.title(\"Logistric Regression ROC Curve\")\n",
        "plt.show()"
      ]
    },
    {
      "cell_type": "markdown",
      "metadata": {
        "id": "45qZBbohEKUk"
      },
      "source": [
        "3 **Decision** **Tree**"
      ]
    },
    {
      "cell_type": "code",
      "execution_count": null,
      "metadata": {
        "colab": {
          "base_uri": "https://localhost:8080/",
          "height": 784
        },
        "id": "3rznNWhK1wrx",
        "outputId": "7bd6d51d-ecf7-483e-82da-4156e351269e"
      },
      "outputs": [
        {
          "output_type": "stream",
          "name": "stdout",
          "text": [
            "\n",
            "\n",
            "Accuracy of Decision tree Classifier: 80.328 %\n",
            "\n",
            "              precision    recall  f1-score   support\n",
            "\n",
            "           0       0.74      0.90      0.81        29\n",
            "           1       0.88      0.72      0.79        32\n",
            "\n",
            "    accuracy                           0.80        61\n",
            "   macro avg       0.81      0.81      0.80        61\n",
            "weighted avg       0.82      0.80      0.80        61\n",
            "\n"
          ]
        },
        {
          "output_type": "execute_result",
          "data": {
            "text/plain": [
              "<function matplotlib.pyplot.show>"
            ]
          },
          "metadata": {},
          "execution_count": 11
        },
        {
          "output_type": "display_data",
          "data": {
            "image/png": "[encoded data removed]",
            "text/plain": [
              "<Figure size 432x288 with 1 Axes>"
            ]
          },
          "metadata": {
            "needs_background": "light"
          }
        },
        {
          "output_type": "display_data",
          "data": {
            "image/png": "[encoded data removed]",
            "text/plain": [
              "<Figure size 432x288 with 2 Axes>"
            ]
          },
          "metadata": {
            "needs_background": "light"
          }
        }
      ],
      "source": [
        "# instantiating the object\n",
        "dt =tree.DecisionTreeClassifier(random_state=42,ccp_alpha=0.013)\n",
        "# fitting the object\n",
        "dt.fit(X_train,y_train)\n",
        "\n",
        "# feature importance\n",
        "perm_importance = permutation_importance(dt, X_test, y_test)\n",
        "feature_names = ['age', 'trestbps', 'chol', 'thalach', 'oldpeak', 'target', 'sex_1',\n",
        "       'exang_1', 'ca_1', 'ca_2', 'ca_3', 'ca_4', 'cp_1', 'cp_2', 'cp_3',\n",
        "       'fbs_1', 'restecg_1', 'restecg_2', 'slope_1', 'slope_2', 'thal_1',\n",
        "       'thal_2', 'thal_3']\n",
        "features = np.array(feature_names)\n",
        "sorted_idx = perm_importance.importances_mean.argsort()\n",
        "plt.barh(features[sorted_idx], perm_importance.importances_mean[sorted_idx])\n",
        "plt.xlabel(\"Permutation Importance\")\n",
        "#predict the object\n",
        "y_pred = dt.predict(X_test)\n",
        "\n",
        "\n",
        "# confusion matrix and accuracy scores for y_test\n",
        "acc_score = accuracy_score(y_test, y_pred)\n",
        "print(\"\\n\")\n",
        "print(\"Accuracy of Decision tree Classifier: {:.3f}\".format(acc_score*100),'%\\n')\n",
        "\n",
        "#Peport\n",
        "print(classification_report(y_test, y_pred))\n",
        "# disply confusion matrix\n",
        "cm = confusion_matrix(y_test,y_pred,labels=logreg.classes_)\n",
        "disp = ConfusionMatrixDisplay(confusion_matrix=cm, display_labels=logreg.classes_)\n",
        "disp.plot()\n",
        "plt.show\n"
      ]
    },
    {
      "cell_type": "code",
      "execution_count": null,
      "metadata": {
        "colab": {
          "base_uri": "https://localhost:8080/",
          "height": 294
        },
        "id": "fF6h5guHGfAN",
        "outputId": "73bf92d0-dd3f-4a17-d027-0a2a6706fd37"
      },
      "outputs": [
        {
          "output_type": "display_data",
          "data": {
            "image/png": "[encoded data removed]",
            "text/plain": [
              "<Figure size 432x288 with 1 Axes>"
            ]
          },
          "metadata": {
            "needs_background": "light"
          }
        }
      ],
      "source": [
        "# calculating the probabilities\n",
        "y_pred_prob = dt.predict_proba(X_test)[:,1]\n",
        "# instantiating the roc_cruve for y_test\n",
        "fpr,tpr,threshols=roc_curve(y_test,y_pred_prob)\n",
        "\n",
        "# plotting the curve\n",
        "plt.plot([0,1],[0,1],\"k--\",'r+')\n",
        "plt.plot(fpr,tpr,label='Support Vector Machine')\n",
        "plt.xlabel(\"False Positive Rate\")\n",
        "plt.ylabel(\"True Positive Rate\")\n",
        "plt.title(\"Decision Tree ROC Curve\")\n",
        "plt.show()"
      ]
    },
    {
      "cell_type": "markdown",
      "metadata": {
        "id": "Ru3517VWEVOf"
      },
      "source": [
        "4 **Random forest** "
      ]
    },
    {
      "cell_type": "code",
      "execution_count": null,
      "metadata": {
        "colab": {
          "base_uri": "https://localhost:8080/"
        },
        "id": "gbIjGv2Fwq3H",
        "outputId": "bb25139d-0ac1-4b3a-d2a2-7f69498b587b"
      },
      "outputs": [
        {
          "output_type": "execute_result",
          "data": {
            "text/plain": [
              "0.8524590163934426"
            ]
          },
          "metadata": {},
          "execution_count": 13
        }
      ],
      "source": [
        "rf = RandomForestClassifier(max_features=2, n_estimators=100)\n",
        "rf.fit(X_train, y_train)\n",
        "rf.predict(X_test)\n",
        "rf.score(X_test, y_test)"
      ]
    },
    {
      "cell_type": "code",
      "execution_count": null,
      "metadata": {
        "colab": {
          "base_uri": "https://localhost:8080/",
          "height": 784
        },
        "id": "85ixN_4_Doae",
        "outputId": "da6841f0-fb74-41ce-c725-94d6bb039fb6"
      },
      "outputs": [
        {
          "output_type": "stream",
          "name": "stdout",
          "text": [
            "\n",
            "\n",
            "Accuracy of Random forest Classifier: 88.525 %\n",
            "\n",
            "              precision    recall  f1-score   support\n",
            "\n",
            "           0       0.87      0.90      0.88        29\n",
            "           1       0.90      0.88      0.89        32\n",
            "\n",
            "    accuracy                           0.89        61\n",
            "   macro avg       0.88      0.89      0.89        61\n",
            "weighted avg       0.89      0.89      0.89        61\n",
            "\n"
          ]
        },
        {
          "output_type": "execute_result",
          "data": {
            "text/plain": [
              "<function matplotlib.pyplot.show>"
            ]
          },
          "metadata": {},
          "execution_count": 14
        },
        {
          "output_type": "display_data",
          "data": {
            "image/png": "[encoded data removed]",
            "text/plain": [
              "<Figure size 432x288 with 1 Axes>"
            ]
          },
          "metadata": {
            "needs_background": "light"
          }
        },
        {
          "output_type": "display_data",
          "data": {
            "image/png": "[encoded data removed]",
            "text/plain": [
              "<Figure size 432x288 with 2 Axes>"
            ]
          },
          "metadata": {
            "needs_background": "light"
          }
        }
      ],
      "source": [
        "# instantiating the object\n",
        "rf = RandomForestClassifier(n_estimators = 100, random_state = 42,max_leaf_nodes=2)\n",
        "# fitting the object\n",
        "rf.fit(X_train, y_train)\n",
        " #predict the object\n",
        "y_pred = rf.predict(X_test)\n",
        "# feature importance\n",
        "perm_importance = permutation_importance(rf, X_test, y_test)\n",
        "feature_names = ['age', 'trestbps', 'chol', 'thalach', 'oldpeak', 'target', 'sex_1',\n",
        "       'exang_1', 'ca_1', 'ca_2', 'ca_3', 'ca_4', 'cp_1', 'cp_2', 'cp_3',\n",
        "       'fbs_1', 'restecg_1', 'restecg_2', 'slope_1', 'slope_2', 'thal_1',\n",
        "       'thal_2', 'thal_3']\n",
        "features = np.array(feature_names)\n",
        "sorted_idx = perm_importance.importances_mean.argsort()\n",
        "plt.barh(features[sorted_idx], perm_importance.importances_mean[sorted_idx])\n",
        "plt.xlabel(\"Permutation Importance\")\n",
        "# confusion matrix and accuracy scores for y_test\n",
        "acc_score = accuracy_score(y_test, y_pred)\n",
        "print(\"\\n\")\n",
        "print(\"Accuracy of Random forest Classifier: {:.3f}\".format(acc_score*100),'%\\n')\n",
        "\n",
        "#Peport\n",
        "print(classification_report(y_test, y_pred))\n",
        "# disply confusion matrix\n",
        "cm = confusion_matrix(y_test,y_pred,labels=logreg.classes_)\n",
        "disp = ConfusionMatrixDisplay(confusion_matrix=cm, display_labels=logreg.classes_)\n",
        "disp.plot()\n",
        "plt.show"
      ]
    },
    {
      "cell_type": "code",
      "execution_count": null,
      "metadata": {
        "colab": {
          "base_uri": "https://localhost:8080/",
          "height": 294
        },
        "id": "0vvxLp8QGypc",
        "outputId": "1d9eaefb-8089-4326-f423-14b6d5798cfa"
      },
      "outputs": [
        {
          "output_type": "display_data",
          "data": {
            "image/png": "[encoded data removed]",
            "text/plain": [
              "<Figure size 432x288 with 1 Axes>"
            ]
          },
          "metadata": {
            "needs_background": "light"
          }
        }
      ],
      "source": [
        "# calculating the probabilities\n",
        "y_pred_prob = rf.predict_proba(X_test)[:,1]\n",
        "# instantiating the roc_cruve for y_test\n",
        "fpr,tpr,threshols=roc_curve(y_test,y_pred_prob)\n",
        "\n",
        "# plotting the curve\n",
        "plt.plot([0,1],[0,1],\"k--\",'r+')\n",
        "plt.plot(fpr,tpr,label='Support Vector Machine')\n",
        "plt.xlabel(\"False Positive Rate\")\n",
        "plt.ylabel(\"True Positive Rate\")\n",
        "plt.title(\"Random Forest ROC Curve\")\n",
        "plt.show()"
      ]
    },
    {
      "cell_type": "markdown",
      "metadata": {
        "id": "K7hb2aW6HDeZ"
      },
      "source": [
        "5 **k-nearest neighbors **"
      ]
    },
    {
      "cell_type": "code",
      "execution_count": null,
      "metadata": {
        "colab": {
          "base_uri": "https://localhost:8080/",
          "height": 784
        },
        "id": "XmrLSO5O3aWB",
        "outputId": "89ea2abf-7610-407d-a181-0cace6106074"
      },
      "outputs": [
        {
          "output_type": "stream",
          "name": "stdout",
          "text": [
            "\n",
            "\n",
            "Accuracy of K-nearest neighbors Classifier: 90.164 %\n",
            "\n",
            "              precision    recall  f1-score   support\n",
            "\n",
            "           0       0.87      0.93      0.90        29\n",
            "           1       0.93      0.88      0.90        32\n",
            "\n",
            "    accuracy                           0.90        61\n",
            "   macro avg       0.90      0.90      0.90        61\n",
            "weighted avg       0.90      0.90      0.90        61\n",
            "\n"
          ]
        },
        {
          "output_type": "execute_result",
          "data": {
            "text/plain": [
              "<function matplotlib.pyplot.show>"
            ]
          },
          "metadata": {},
          "execution_count": 16
        },
        {
          "output_type": "display_data",
          "data": {
            "image/png": "[encoded data removed]",
            "text/plain": [
              "<Figure size 432x288 with 1 Axes>"
            ]
          },
          "metadata": {
            "needs_background": "light"
          }
        },
        {
          "output_type": "display_data",
          "data": {
            "image/png": "[encoded data removed]",
            "text/plain": [
              "<Figure size 432x288 with 2 Axes>"
            ]
          },
          "metadata": {
            "needs_background": "light"
          }
        }
      ],
      "source": [
        "# instanting Objects\n",
        "knn = KNeighborsClassifier(n_neighbors = 11) \n",
        "#fitting objects \n",
        "knn.fit(X_train, y_train)\n",
        "# predict the object\n",
        "y_pred=knn.predict(X_test)\n",
        "# feature importance\n",
        "perm_importance = permutation_importance(knn, X_test, y_test)\n",
        "feature_names = ['age', 'trestbps', 'chol', 'thalach', 'oldpeak', 'target', 'sex_1',\n",
        "       'exang_1', 'ca_1', 'ca_2', 'ca_3', 'ca_4', 'cp_1', 'cp_2', 'cp_3',\n",
        "       'fbs_1', 'restecg_1', 'restecg_2', 'slope_1', 'slope_2', 'thal_1',\n",
        "       'thal_2', 'thal_3']\n",
        "features = np.array(feature_names)\n",
        "sorted_idx = perm_importance.importances_mean.argsort()\n",
        "plt.barh(features[sorted_idx], perm_importance.importances_mean[sorted_idx])\n",
        "plt.xlabel(\"Permutation Importance\")\n",
        "# confusion matrix and accuracy scores for y_test\n",
        "acc_scor = accuracy_score(y_test, y_pred)\n",
        "print(\"\\n\")\n",
        "print(\"Accuracy of K-nearest neighbors Classifier: {:.3f}\".format(acc_scor*100),'%\\n')\n",
        "\n",
        "#Peport\n",
        "print(classification_report(y_test, y_pred))\n",
        "# disply confusion matrix\n",
        "cm = confusion_matrix(y_test,y_pred,labels=logreg.classes_)\n",
        "disp = ConfusionMatrixDisplay(confusion_matrix=cm, display_labels=logreg.classes_)\n",
        "disp.plot()\n",
        "plt.show\n"
      ]
    },
    {
      "cell_type": "code",
      "execution_count": null,
      "metadata": {
        "colab": {
          "base_uri": "https://localhost:8080/",
          "height": 294
        },
        "id": "d-YjTfFBJbhU",
        "outputId": "a4718385-a464-4e70-f34c-5a5ff4d76aad"
      },
      "outputs": [
        {
          "output_type": "display_data",
          "data": {
            "image/png": "[encoded data removed]",
            "text/plain": [
              "<Figure size 432x288 with 1 Axes>"
            ]
          },
          "metadata": {
            "needs_background": "light"
          }
        }
      ],
      "source": [
        "# calculating the probabilities\n",
        "y_pred_prob = knn.predict_proba(X_test)[:,1]\n",
        "\n",
        "# instantiating the roc_cruve for y_test\n",
        "fpr,tpr,threshols=roc_curve(y_test,y_pred_prob)\n",
        "\n",
        "# plotting the curve\n",
        "plt.plot([0,1],[0,1],\"k--\",'r+')\n",
        "plt.plot(fpr,tpr,label='Support Vector Machine')\n",
        "plt.xlabel(\"False Positive Rate\")\n",
        "plt.ylabel(\"True Positive Rate\")\n",
        "plt.title(\"k-nearest neighbors ROC Curve\")\n",
        "plt.show()"
      ]
    },
    {
      "cell_type": "code",
      "execution_count": null,
      "metadata": {
        "id": "-kIAMgl0p3xM"
      },
      "outputs": [],
      "source": [
        "import tensorflow as tf"
      ]
    },
    {
      "cell_type": "code",
      "execution_count": null,
      "metadata": {
        "id": "R9qO6ZVUqd4s"
      },
      "outputs": [],
      "source": [
        "#Initialising ANN\n",
        "ann = tf.keras.models.Sequential()"
      ]
    },
    {
      "cell_type": "code",
      "execution_count": null,
      "metadata": {
        "colab": {
          "base_uri": "https://localhost:8080/"
        },
        "id": "J9DVu5-YrF4W",
        "outputId": "83017ede-de50-4751-c7f3-baadda2327e7"
      },
      "outputs": [
        {
          "output_type": "stream",
          "name": "stdout",
          "text": [
            "Epoch 1/100\n",
            "8/8 [==============================] - 1s 4ms/step - loss: 0.7237 - accuracy: 0.1736\n",
            "Epoch 2/100\n",
            "8/8 [==============================] - 0s 4ms/step - loss: 0.7203 - accuracy: 0.0868\n",
            "Epoch 3/100\n",
            "8/8 [==============================] - 0s 9ms/step - loss: 0.7167 - accuracy: 0.0372\n",
            "Epoch 4/100\n",
            "8/8 [==============================] - 0s 4ms/step - loss: 0.7133 - accuracy: 0.0289\n",
            "Epoch 5/100\n",
            "8/8 [==============================] - 0s 10ms/step - loss: 0.7101 - accuracy: 0.0083\n",
            "Epoch 6/100\n",
            "8/8 [==============================] - 0s 6ms/step - loss: 0.7066 - accuracy: 0.0165\n",
            "Epoch 7/100\n",
            "8/8 [==============================] - 0s 5ms/step - loss: 0.7033 - accuracy: 0.0909\n",
            "Epoch 8/100\n",
            "8/8 [==============================] - 0s 6ms/step - loss: 0.7002 - accuracy: 0.4174\n",
            "Epoch 9/100\n",
            "8/8 [==============================] - 0s 5ms/step - loss: 0.6970 - accuracy: 0.5496\n",
            "Epoch 10/100\n",
            "8/8 [==============================] - 0s 5ms/step - loss: 0.6943 - accuracy: 0.5496\n",
            "Epoch 11/100\n",
            "8/8 [==============================] - 0s 6ms/step - loss: 0.6918 - accuracy: 0.5496\n",
            "Epoch 12/100\n",
            "8/8 [==============================] - 0s 4ms/step - loss: 0.6895 - accuracy: 0.5496\n",
            "Epoch 13/100\n",
            "8/8 [==============================] - 0s 5ms/step - loss: 0.6874 - accuracy: 0.5496\n",
            "Epoch 14/100\n",
            "8/8 [==============================] - 0s 5ms/step - loss: 0.6854 - accuracy: 0.5496\n",
            "Epoch 15/100\n",
            "8/8 [==============================] - 0s 11ms/step - loss: 0.6834 - accuracy: 0.5496\n",
            "Epoch 16/100\n",
            "8/8 [==============================] - 0s 6ms/step - loss: 0.6812 - accuracy: 0.5496\n",
            "Epoch 17/100\n",
            "8/8 [==============================] - 0s 5ms/step - loss: 0.6792 - accuracy: 0.5496\n",
            "Epoch 18/100\n",
            "8/8 [==============================] - 0s 4ms/step - loss: 0.6766 - accuracy: 0.5496\n",
            "Epoch 19/100\n",
            "8/8 [==============================] - 0s 4ms/step - loss: 0.6743 - accuracy: 0.5496\n",
            "Epoch 20/100\n",
            "8/8 [==============================] - 0s 5ms/step - loss: 0.6717 - accuracy: 0.5496\n",
            "Epoch 21/100\n",
            "8/8 [==============================] - 0s 5ms/step - loss: 0.6692 - accuracy: 0.5496\n",
            "Epoch 22/100\n",
            "8/8 [==============================] - 0s 4ms/step - loss: 0.6664 - accuracy: 0.5496\n",
            "Epoch 23/100\n",
            "8/8 [==============================] - 0s 10ms/step - loss: 0.6640 - accuracy: 0.5496\n",
            "Epoch 24/100\n",
            "8/8 [==============================] - 0s 4ms/step - loss: 0.6616 - accuracy: 0.5496\n",
            "Epoch 25/100\n",
            "8/8 [==============================] - 0s 4ms/step - loss: 0.6590 - accuracy: 0.5496\n",
            "Epoch 26/100\n",
            "8/8 [==============================] - 0s 5ms/step - loss: 0.6565 - accuracy: 0.5496\n",
            "Epoch 27/100\n",
            "8/8 [==============================] - 0s 5ms/step - loss: 0.6540 - accuracy: 0.5496\n",
            "Epoch 28/100\n",
            "8/8 [==============================] - 0s 6ms/step - loss: 0.6516 - accuracy: 0.5496\n",
            "Epoch 29/100\n",
            "8/8 [==============================] - 0s 7ms/step - loss: 0.6490 - accuracy: 0.5496\n",
            "Epoch 30/100\n",
            "8/8 [==============================] - 0s 5ms/step - loss: 0.6466 - accuracy: 0.5496\n",
            "Epoch 31/100\n",
            "8/8 [==============================] - 0s 3ms/step - loss: 0.6441 - accuracy: 0.5496\n",
            "Epoch 32/100\n",
            "8/8 [==============================] - 0s 4ms/step - loss: 0.6416 - accuracy: 0.5496\n",
            "Epoch 33/100\n",
            "8/8 [==============================] - 0s 5ms/step - loss: 0.6392 - accuracy: 0.5496\n",
            "Epoch 34/100\n",
            "8/8 [==============================] - 0s 4ms/step - loss: 0.6367 - accuracy: 0.5496\n",
            "Epoch 35/100\n",
            "8/8 [==============================] - 0s 4ms/step - loss: 0.6341 - accuracy: 0.5496\n",
            "Epoch 36/100\n",
            "8/8 [==============================] - 0s 4ms/step - loss: 0.6315 - accuracy: 0.5496\n",
            "Epoch 37/100\n",
            "8/8 [==============================] - 0s 4ms/step - loss: 0.6291 - accuracy: 0.5496\n",
            "Epoch 38/100\n",
            "8/8 [==============================] - 0s 4ms/step - loss: 0.6264 - accuracy: 0.5496\n",
            "Epoch 39/100\n",
            "8/8 [==============================] - 0s 4ms/step - loss: 0.6238 - accuracy: 0.5496\n",
            "Epoch 40/100\n",
            "8/8 [==============================] - 0s 4ms/step - loss: 0.6213 - accuracy: 0.5496\n",
            "Epoch 41/100\n",
            "8/8 [==============================] - 0s 4ms/step - loss: 0.6186 - accuracy: 0.5496\n",
            "Epoch 42/100\n",
            "8/8 [==============================] - 0s 6ms/step - loss: 0.6159 - accuracy: 0.5496\n",
            "Epoch 43/100\n",
            "8/8 [==============================] - 0s 5ms/step - loss: 0.6132 - accuracy: 0.5496\n",
            "Epoch 44/100\n",
            "8/8 [==============================] - 0s 4ms/step - loss: 0.6104 - accuracy: 0.5496\n",
            "Epoch 45/100\n",
            "8/8 [==============================] - 0s 4ms/step - loss: 0.6076 - accuracy: 0.5496\n",
            "Epoch 46/100\n",
            "8/8 [==============================] - 0s 4ms/step - loss: 0.6048 - accuracy: 0.5496\n",
            "Epoch 47/100\n",
            "8/8 [==============================] - 0s 5ms/step - loss: 0.6019 - accuracy: 0.5496\n",
            "Epoch 48/100\n",
            "8/8 [==============================] - 0s 4ms/step - loss: 0.5989 - accuracy: 0.5496\n",
            "Epoch 49/100\n",
            "8/8 [==============================] - 0s 5ms/step - loss: 0.5960 - accuracy: 0.5496\n",
            "Epoch 50/100\n",
            "8/8 [==============================] - 0s 4ms/step - loss: 0.5930 - accuracy: 0.5496\n",
            "Epoch 51/100\n",
            "8/8 [==============================] - 0s 4ms/step - loss: 0.5900 - accuracy: 0.5496\n",
            "Epoch 52/100\n",
            "8/8 [==============================] - 0s 5ms/step - loss: 0.5869 - accuracy: 0.5496\n",
            "Epoch 53/100\n",
            "8/8 [==============================] - 0s 6ms/step - loss: 0.5837 - accuracy: 0.5496\n",
            "Epoch 54/100\n",
            "8/8 [==============================] - 0s 6ms/step - loss: 0.5806 - accuracy: 0.5496\n",
            "Epoch 55/100\n",
            "8/8 [==============================] - 0s 4ms/step - loss: 0.5772 - accuracy: 0.5496\n",
            "Epoch 56/100\n",
            "8/8 [==============================] - 0s 5ms/step - loss: 0.5740 - accuracy: 0.5496\n",
            "Epoch 57/100\n",
            "8/8 [==============================] - 0s 5ms/step - loss: 0.5706 - accuracy: 0.5496\n",
            "Epoch 58/100\n",
            "8/8 [==============================] - 0s 5ms/step - loss: 0.5672 - accuracy: 0.5496\n",
            "Epoch 59/100\n",
            "8/8 [==============================] - 0s 6ms/step - loss: 0.5637 - accuracy: 0.5496\n",
            "Epoch 60/100\n",
            "8/8 [==============================] - 0s 5ms/step - loss: 0.5601 - accuracy: 0.5496\n",
            "Epoch 61/100\n",
            "8/8 [==============================] - 0s 4ms/step - loss: 0.5567 - accuracy: 0.5496\n",
            "Epoch 62/100\n",
            "8/8 [==============================] - 0s 4ms/step - loss: 0.5530 - accuracy: 0.5496\n",
            "Epoch 63/100\n",
            "8/8 [==============================] - 0s 4ms/step - loss: 0.5495 - accuracy: 0.5496\n",
            "Epoch 64/100\n",
            "8/8 [==============================] - 0s 5ms/step - loss: 0.5458 - accuracy: 0.5496\n",
            "Epoch 65/100\n",
            "8/8 [==============================] - 0s 4ms/step - loss: 0.5421 - accuracy: 0.5496\n",
            "Epoch 66/100\n",
            "8/8 [==============================] - 0s 5ms/step - loss: 0.5385 - accuracy: 0.7934\n",
            "Epoch 67/100\n",
            "8/8 [==============================] - 0s 7ms/step - loss: 0.5347 - accuracy: 0.8347\n",
            "Epoch 68/100\n",
            "8/8 [==============================] - 0s 5ms/step - loss: 0.5309 - accuracy: 0.8595\n",
            "Epoch 69/100\n",
            "8/8 [==============================] - 0s 6ms/step - loss: 0.5271 - accuracy: 0.8719\n",
            "Epoch 70/100\n",
            "8/8 [==============================] - 0s 5ms/step - loss: 0.5232 - accuracy: 0.8760\n",
            "Epoch 71/100\n",
            "8/8 [==============================] - 0s 4ms/step - loss: 0.5193 - accuracy: 0.8802\n",
            "Epoch 72/100\n",
            "8/8 [==============================] - 0s 6ms/step - loss: 0.5152 - accuracy: 0.8843\n",
            "Epoch 73/100\n",
            "8/8 [==============================] - 0s 5ms/step - loss: 0.5111 - accuracy: 0.8884\n",
            "Epoch 74/100\n",
            "8/8 [==============================] - 0s 4ms/step - loss: 0.5072 - accuracy: 0.8926\n",
            "Epoch 75/100\n",
            "8/8 [==============================] - 0s 4ms/step - loss: 0.5030 - accuracy: 0.9008\n",
            "Epoch 76/100\n",
            "8/8 [==============================] - 0s 5ms/step - loss: 0.4988 - accuracy: 0.9050\n",
            "Epoch 77/100\n",
            "8/8 [==============================] - 0s 6ms/step - loss: 0.4948 - accuracy: 0.9050\n",
            "Epoch 78/100\n",
            "8/8 [==============================] - 0s 4ms/step - loss: 0.4907 - accuracy: 0.9091\n",
            "Epoch 79/100\n",
            "8/8 [==============================] - 0s 4ms/step - loss: 0.4865 - accuracy: 0.9215\n",
            "Epoch 80/100\n",
            "8/8 [==============================] - 0s 4ms/step - loss: 0.4825 - accuracy: 0.9215\n",
            "Epoch 81/100\n",
            "8/8 [==============================] - 0s 4ms/step - loss: 0.4783 - accuracy: 0.9256\n",
            "Epoch 82/100\n",
            "8/8 [==============================] - 0s 4ms/step - loss: 0.4742 - accuracy: 0.9298\n",
            "Epoch 83/100\n",
            "8/8 [==============================] - 0s 4ms/step - loss: 0.4703 - accuracy: 0.9298\n",
            "Epoch 84/100\n",
            "8/8 [==============================] - 0s 4ms/step - loss: 0.4662 - accuracy: 0.9463\n",
            "Epoch 85/100\n",
            "8/8 [==============================] - 0s 4ms/step - loss: 0.4623 - accuracy: 0.9463\n",
            "Epoch 86/100\n",
            "8/8 [==============================] - 0s 4ms/step - loss: 0.4582 - accuracy: 0.9504\n",
            "Epoch 87/100\n",
            "8/8 [==============================] - 0s 4ms/step - loss: 0.4543 - accuracy: 0.9504\n",
            "Epoch 88/100\n",
            "8/8 [==============================] - 0s 4ms/step - loss: 0.4502 - accuracy: 0.9587\n",
            "Epoch 89/100\n",
            "8/8 [==============================] - 0s 4ms/step - loss: 0.4463 - accuracy: 0.9587\n",
            "Epoch 90/100\n",
            "8/8 [==============================] - 0s 4ms/step - loss: 0.4426 - accuracy: 0.9587\n",
            "Epoch 91/100\n",
            "8/8 [==============================] - 0s 4ms/step - loss: 0.4385 - accuracy: 0.9587\n",
            "Epoch 92/100\n",
            "8/8 [==============================] - 0s 4ms/step - loss: 0.4345 - accuracy: 0.9628\n",
            "Epoch 93/100\n",
            "8/8 [==============================] - 0s 3ms/step - loss: 0.4310 - accuracy: 0.9628\n",
            "Epoch 94/100\n",
            "8/8 [==============================] - 0s 4ms/step - loss: 0.4269 - accuracy: 0.9669\n",
            "Epoch 95/100\n",
            "8/8 [==============================] - 0s 7ms/step - loss: 0.4230 - accuracy: 0.9669\n",
            "Epoch 96/100\n",
            "8/8 [==============================] - 0s 5ms/step - loss: 0.4192 - accuracy: 0.9669\n",
            "Epoch 97/100\n",
            "8/8 [==============================] - 0s 6ms/step - loss: 0.4152 - accuracy: 0.9669\n",
            "Epoch 98/100\n",
            "8/8 [==============================] - 0s 4ms/step - loss: 0.4116 - accuracy: 0.9669\n",
            "Epoch 99/100\n",
            "8/8 [==============================] - 0s 4ms/step - loss: 0.4077 - accuracy: 0.9669\n",
            "Epoch 100/100\n",
            "8/8 [==============================] - 0s 5ms/step - loss: 0.4040 - accuracy: 0.9669\n"
          ]
        }
      ],
      "source": [
        "#Adding First Hidden Layer\n",
        "ann.add(tf.keras.layers.Dense(units=6,activation=\"relu\"))\n",
        "#Adding Output Layer\n",
        "ann.add(tf.keras.layers.Dense(units=1,activation=\"sigmoid\"))\n",
        "#Compiling ANN\n",
        "ann.compile(optimizer=\"adam\",loss=\"binary_crossentropy\",metrics=['accuracy'])\n",
        "#Fitting ANN\n",
        "ann.fit(X_train,y_train,batch_size=32,epochs = 100)\n",
        "y_pred=ann.predict(X_test)"
      ]
    },
    {
      "cell_type": "markdown",
      "source": [
        "# New Section"
      ],
      "metadata": {
        "id": "o1_W14ThuXZg"
      }
    },
    {
      "cell_type": "code",
      "execution_count": null,
      "metadata": {
        "colab": {
          "base_uri": "https://localhost:8080/",
          "height": 286
        },
        "id": "yK_bWr53vgzC",
        "outputId": "0c6b12ea-d45c-4d85-f45a-602452c3c115"
      },
      "outputs": [
        {
          "output_type": "execute_result",
          "data": {
            "text/plain": [
              "<matplotlib.axes._subplots.AxesSubplot at 0x7fc6befd3fd0>"
            ]
          },
          "metadata": {},
          "execution_count": 30
        },
        {
          "output_type": "display_data",
          "data": {
            "image/png": "[encoded data removed]",
            "text/plain": [
              "<Figure size 432x288 with 1 Axes>"
            ]
          },
          "metadata": {
            "needs_background": "light"
          }
        }
      ],
      "source": [
        "losses=pd.DataFrame(ann.history.history)\n",
        "losses.plot()\n"
      ]
    },
    {
      "cell_type": "code",
      "source": [
        "# create a dataset\n",
        "height = [90.16, 90.17, 80.33, 88.53, 90.16,96.87]\n",
        "bars = ('SVM','LR', 'DT', 'RF', 'KNN', 'ANN')\n",
        "x_pos = np.arange(len(bars))\n",
        "\n",
        "# Create bars with different colors\n",
        "plt.bar(x_pos, height, color=['BLUE','blue', 'red', 'blue', 'cyan', 'green'])\n",
        "\n",
        "# Create names on the x-axis\n",
        "plt.xticks(x_pos, bars,rotation=45)\n",
        "# Show graph\n",
        "plt.show()"
      ],
      "metadata": {
        "colab": {
          "base_uri": "https://localhost:8080/",
          "height": 278
        },
        "id": "2wubU-fe4QcP",
        "outputId": "f162fa57-f55a-4b76-ec8d-dda1ecc1374c"
      },
      "execution_count": null,
      "outputs": [
        {
          "output_type": "display_data",
          "data": {
            "image/png": "[encoded data removed]",
            "text/plain": [
              "<Figure size 432x288 with 1 Axes>"
            ]
          },
          "metadata": {
            "needs_background": "light"
          }
        }
      ]
    }
  ],
  "metadata": {
    "colab": {
      "provenance": [],
      "toc_visible": true,
      "include_colab_link": true
    },
    "kernelspec": {
      "display_name": "Python 3",
      "name": "python3"
    },
    "language_info": {
      "name": "python"
    }
  },
  "nbformat": 4,
  "nbformat_minor": 0
}